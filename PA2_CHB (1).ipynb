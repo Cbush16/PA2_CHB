{
 "cells": [
  {
   "cell_type": "markdown",
   "id": "76ab2f5d-bd64-469c-9d36-57d7a33ba0f8",
   "metadata": {},
   "source": [
    "# Programming Assignment 2\n",
    "---\n",
    "**Author:** Caleb Bush  \n",
    "**Version:** 1.0  \n",
    "**Semester:** Spring 2024 \n",
    "\n",
    "This *notebook* contains my solution(s) to **Programming Assignment 2**"
   ]
  },
  {
   "cell_type": "markdown",
   "id": "d5780b77-38e2-400b-b966-049438c79986",
   "metadata": {
    "tags": []
   },
   "source": [
    "### Problem 1 – Printing Numbers"
   ]
  },
  {
   "cell_type": "code",
   "execution_count": 1,
   "id": "a6f2da43-6f9d-4aa8-b912-c158edd8d060",
   "metadata": {
    "tags": []
   },
   "outputs": [
    {
     "name": "stdout",
     "output_type": "stream",
     "text": [
      "0\n",
      "1\n",
      "2\n",
      "3\n",
      "4\n",
      "5\n",
      "6   *\n",
      "7\n",
      "8\n",
      "9   *\n",
      "10\n",
      "11\n",
      "12   *\n",
      "13\n",
      "14\n",
      "15   *\n",
      "16\n",
      "17\n",
      "18   *\n",
      "19\n",
      "20\n",
      "21   *\n",
      "22\n",
      "23\n",
      "24   *\n",
      "25\n",
      "26\n",
      "27   *\n",
      "28\n",
      "29\n",
      "30   *\n",
      "31\n",
      "32\n",
      "33   *\n",
      "34\n",
      "35\n",
      "36   *\n",
      "37\n",
      "38\n",
      "39   *\n",
      "40\n",
      "41\n",
      "42   *\n",
      "43\n",
      "44\n",
      "45   *\n",
      "46\n",
      "47\n",
      "48   *\n",
      "49\n",
      "50\n",
      "51   *\n",
      "52\n",
      "53\n",
      "54   *\n",
      "55\n",
      "56\n",
      "57   *\n",
      "58\n",
      "59\n",
      "60   *\n",
      "61\n",
      "62\n",
      "63   *\n",
      "64\n",
      "65\n",
      "66   *\n",
      "67\n",
      "68\n",
      "69   *\n",
      "70\n",
      "71\n",
      "72   *\n",
      "73\n",
      "74\n",
      "75   *\n",
      "76\n",
      "77\n",
      "78   *\n",
      "79\n",
      "80\n",
      "81   *\n",
      "82\n",
      "83\n",
      "84   *\n",
      "85\n",
      "86\n",
      "87   *\n",
      "88\n",
      "89\n",
      "90   *\n",
      "91\n",
      "92\n",
      "93   *\n",
      "94\n",
      "95\n",
      "96   *\n",
      "97\n",
      "98\n",
      "99   *\n",
      "100\n"
     ]
    }
   ],
   "source": [
    "for r in range(101):\n",
    "    if r==0:\n",
    "        print(r)\n",
    "    elif r==3:\n",
    "        print(r)\n",
    "    elif r%3==0:\n",
    "        print(r,\" \",'*')\n",
    "    else:\n",
    "        print(r)"
   ]
  },
  {
   "cell_type": "markdown",
   "id": "c14ddafd-d10c-43e2-8981-13adce90172a",
   "metadata": {},
   "source": [
    "### Problem 2 – Age Status"
   ]
  },
  {
   "cell_type": "code",
   "execution_count": 2,
   "id": "4d52098e-6402-4c77-ad05-93887758a9bc",
   "metadata": {
    "tags": []
   },
   "outputs": [
    {
     "name": "stdin",
     "output_type": "stream",
     "text": [
      "Enter subjects age. Type 0 to quit 17\n"
     ]
    },
    {
     "name": "stdout",
     "output_type": "stream",
     "text": [
      "Minor\n"
     ]
    },
    {
     "name": "stdin",
     "output_type": "stream",
     "text": [
      "Enter subjects age. Type 0 to quit 18\n"
     ]
    },
    {
     "name": "stdout",
     "output_type": "stream",
     "text": [
      "Adult\n"
     ]
    },
    {
     "name": "stdin",
     "output_type": "stream",
     "text": [
      "Enter subjects age. Type 0 to quit 64\n"
     ]
    },
    {
     "name": "stdout",
     "output_type": "stream",
     "text": [
      "Adult\n"
     ]
    },
    {
     "name": "stdin",
     "output_type": "stream",
     "text": [
      "Enter subjects age. Type 0 to quit 65\n"
     ]
    },
    {
     "name": "stdout",
     "output_type": "stream",
     "text": [
      "Senior Citizen\n"
     ]
    },
    {
     "name": "stdin",
     "output_type": "stream",
     "text": [
      "Enter subjects age. Type 0 to quit 99\n"
     ]
    },
    {
     "name": "stdout",
     "output_type": "stream",
     "text": [
      "Senior Citizen\n"
     ]
    },
    {
     "name": "stdin",
     "output_type": "stream",
     "text": [
      "Enter subjects age. Type 0 to quit 0\n"
     ]
    }
   ],
   "source": [
    "prompt = input(\"Enter subjects age. Type 0 to quit\")\n",
    "while prompt!=\"0\":\n",
    "    age = int(prompt)\n",
    "    if age>=65:\n",
    "        print(f'Senior Citizen')\n",
    "    elif age<=17:\n",
    "        print(f'Minor')\n",
    "    elif age>=18:\n",
    "        print(f'Adult')\n",
    "    elif age<=64:\n",
    "        print(f'Adult')\n",
    "    else:\n",
    "        print(f'Senior Citizen')\n",
    "    prompt = input(\"Enter subjects age. Type 0 to quit\")"
   ]
  },
  {
   "cell_type": "markdown",
   "id": "e47575df-ecc6-4b64-b11d-d7c73c82c7dd",
   "metadata": {},
   "source": [
    "### Problem 3 – Age Status v2"
   ]
  },
  {
   "cell_type": "code",
   "execution_count": 3,
   "id": "3a355c70-8bcf-4c68-a0ec-6bc6042c6528",
   "metadata": {
    "tags": []
   },
   "outputs": [
    {
     "name": "stdout",
     "output_type": "stream",
     "text": [
      "65 : Senior Citizen\n",
      "78 : Senior Citizen\n",
      "34 : Adult\n",
      "56 : Adult\n",
      "12 : Minor\n",
      "9 : Minor\n",
      "43 : Adult\n",
      "67 : Senior Citizen\n"
     ]
    }
   ],
   "source": [
    "num = [65,78,34,56,12,9,43,67]\n",
    "for n in num:\n",
    "    if n>=65:\n",
    "        print(f'{n} : Senior Citizen')\n",
    "    elif n<=17:\n",
    "        print(f'{n} : Minor')\n",
    "    elif n>=18:\n",
    "        print(f'{n} : Adult')\n",
    "    elif n<=64:\n",
    "        print(f'{n} : Adult')\n",
    "    else:\n",
    "        print(f'{n} : Senior Citizen')"
   ]
  },
  {
   "cell_type": "markdown",
   "id": "b4329623-757f-41f4-adba-545c85c5d0fd",
   "metadata": {},
   "source": [
    "### : Problem 4 – Calculating Pi"
   ]
  },
  {
   "cell_type": "code",
   "execution_count": 5,
   "id": "45aebf37-b2a4-471e-9d84-bc7bd7a617cb",
   "metadata": {
    "tags": []
   },
   "outputs": [],
   "source": [
    "import math"
   ]
  },
  {
   "cell_type": "code",
   "execution_count": 8,
   "id": "6340708a-db13-422c-a1c4-f6eb3ebeeb16",
   "metadata": {
    "tags": []
   },
   "outputs": [
    {
     "name": "stdout",
     "output_type": "stream",
     "text": [
      "pi=3.1315929035585537 using 101 terms.\n",
      "pi=3.140592653839794 using 1001 terms.\n",
      "pi=3.1414926535900345 using 10001 terms.\n",
      "pi=3.1415826535897198 using 100001 terms.\n",
      "pi=3.1415916535897743 using 1000001 terms.\n"
     ]
    }
   ],
   "source": [
    "num = [100,1000,10000,100000,1000000]\n",
    "for n in num:\n",
    "    x=1\n",
    "    pi = 0\n",
    "    while x<=n:\n",
    "        pi+= 4 * ((-1) ** (x+1) / ((2*x)-1))\n",
    "        x += 1\n",
    "    print(f'pi={pi} using {x} terms.')"
   ]
  }
 ],
 "metadata": {
  "kernelspec": {
   "display_name": "Python 3 (ipykernel)",
   "language": "python",
   "name": "python3"
  },
  "language_info": {
   "codemirror_mode": {
    "name": "ipython",
    "version": 3
   },
   "file_extension": ".py",
   "mimetype": "text/x-python",
   "name": "python",
   "nbconvert_exporter": "python",
   "pygments_lexer": "ipython3",
   "version": "3.11.5"
  }
 },
 "nbformat": 4,
 "nbformat_minor": 5
}
